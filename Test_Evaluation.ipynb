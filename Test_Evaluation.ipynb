{
 "cells": [
  {
   "cell_type": "markdown",
   "metadata": {},
   "source": [
    "<div align = 'right' ><h5>Name : Shubham Narandekar</h5></div>\n",
    "<div align = 'right' ><h5>Student Id : 20200132</h5></div>"
   ]
  },
  {
   "cell_type": "markdown",
   "metadata": {},
   "source": [
    "# Convolutional Neural Network for Pneumonia detection using chest X-Ray images"
   ]
  },
  {
   "cell_type": "code",
   "execution_count": 1,
   "metadata": {
    "id": "Sazip6-5cwIz"
   },
   "outputs": [],
   "source": [
    "import os\n",
    "import numpy as np\n",
    "import pandas as pd\n",
    "import torch\n",
    "import random\n",
    "import torch.nn as nn\n",
    "from torchvision.transforms import transforms\n",
    "from torch.utils.data import DataLoader\n",
    "from torch.optim import Adam\n",
    "from torch.autograd import Variable\n",
    "import torchvision\n",
    "import matplotlib.pyplot as plt\n",
    "import seaborn as sns\n",
    "from sample_data import Models\n",
    "from sklearn import metrics"
   ]
  },
  {
   "cell_type": "code",
   "execution_count": 2,
   "metadata": {
    "colab": {
     "base_uri": "https://localhost:8080/"
    },
    "id": "bBISVQHxcwI7",
    "outputId": "845e8fc5-1c02-4693-ac46-b11adc4b9f3d"
   },
   "outputs": [
    {
     "name": "stdout",
     "output_type": "stream",
     "text": [
      "cuda\n"
     ]
    }
   ],
   "source": [
    "device=torch.device('cuda' if torch.cuda.is_available() else 'cpu')\n",
    "print(device)"
   ]
  },
  {
   "cell_type": "code",
   "execution_count": 3,
   "metadata": {
    "id": "h_lMUQjqcwI9"
   },
   "outputs": [],
   "source": [
    "#Transforms\n",
    "transformer=transforms.Compose([\n",
    "    transforms.Resize((224,224)),\n",
    "    transforms.ToTensor(),\n",
    "    transforms.Normalize([0.485, 0.456, 0.406],[0.229, 0.224, 0.225])\n",
    "])"
   ]
  },
  {
   "cell_type": "code",
   "execution_count": 4,
   "metadata": {
    "id": "FS4ED_jScwI9"
   },
   "outputs": [],
   "source": [
    "test_path='/content/drive/MyDrive/Colab Notebooks/chest_xray/test'\n",
    "\n",
    "test = torchvision.datasets.ImageFolder(test_path,transform=transformer)\n",
    "\n",
    "Models.seed()\n",
    "test_loader=DataLoader(\n",
    "    test, shuffle=True\n",
    ")"
   ]
  },
  {
   "cell_type": "code",
   "execution_count": 5,
   "metadata": {
    "colab": {
     "base_uri": "https://localhost:8080/"
    },
    "id": "uLSfYTBXcwI-",
    "outputId": "46a9df99-6b7f-42dc-fdcf-2ea5beefa638"
   },
   "outputs": [
    {
     "name": "stdout",
     "output_type": "stream",
     "text": [
      "624\n"
     ]
    }
   ],
   "source": [
    "test_count=len(test)\n",
    "print(test_count)"
   ]
  },
  {
   "cell_type": "markdown",
   "metadata": {},
   "source": [
    "After training of all the models, I have saved the model that was performing best among all the epochs. In this notebook I will just load these models and evaluate their performance on unseen test data. First, I will evaluate the proposed model and vgg16 which used the baseline approach. After that I will evaluate the proposed model and vgg16 model which used the improved approach. At the end of this notebook I will compare the performance of the baseline approach with the improved approach."
   ]
  },
  {
   "cell_type": "markdown",
   "metadata": {
    "id": "BLYonBBecwI-"
   },
   "source": [
    "### Evaluating my basic model"
   ]
  },
  {
   "cell_type": "code",
   "execution_count": 6,
   "metadata": {
    "colab": {
     "base_uri": "https://localhost:8080/",
     "height": 500
    },
    "id": "xzscvRGHcwI_",
    "outputId": "1d49a0ff-7075-439b-de05-006f317b85a9"
   },
   "outputs": [
    {
     "name": "stdout",
     "output_type": "stream",
     "text": [
      " Test Accuracy:  66.02564102564102\n",
      " ROC AUC:  0.5564102564102564\n",
      " PR AUC:  0.821435676392573\n",
      " Classification report: \n",
      "              precision    recall  f1-score   support\n",
      "\n",
      "      Normal       0.75      0.14      0.24       234\n",
      "   Pneumonia       0.65      0.97      0.78       390\n",
      "\n",
      "    accuracy                           0.66       624\n",
      "   macro avg       0.70      0.56      0.51       624\n",
      "weighted avg       0.69      0.66      0.58       624\n",
      "\n"
     ]
    },
    {
     "data": {
      "text/plain": [
       "<matplotlib.axes._subplots.AxesSubplot at 0x21a0165f910>"
      ]
     },
     "execution_count": 6,
     "metadata": {},
     "output_type": "execute_result"
    },
    {
     "data": {
      "image/png": "[encoded data removed]",
      "text/plain": [
       "<Figure size 432x288 with 2 Axes>"
      ]
     },
     "metadata": {
      "needs_background": "light"
     },
     "output_type": "display_data"
    }
   ],
   "source": [
    "model = Models.cnn()\n",
    "model.to(device)\n",
    "v1_roc, v1_test_accuracy, v1_pr, v1_cm, v1_cr = Models.test(model, device, test_loader, test_count,\n",
    "                                                               'proposed_v1_checkpoint.model')      \n",
    "\n",
    "print(' Test Accuracy: ', v1_test_accuracy*100)\n",
    "print(' ROC AUC: ', v1_roc)\n",
    "print(' PR AUC: ', v1_pr)\n",
    "print(' Classification report: ')\n",
    "print(v1_cr)\n",
    "sns.heatmap(v1_cm, annot=True, fmt='.4g', xticklabels=['Normal', 'Pneumonia'],\n",
    "            yticklabels=['Normal', 'Pneumonia'], cmap='Blues')"
   ]
  },
  {
   "cell_type": "markdown",
   "metadata": {
    "id": "D2Q0VVz5cwI_"
   },
   "source": [
    "### Basic VGG16 evaluation"
   ]
  },
  {
   "cell_type": "code",
   "execution_count": 7,
   "metadata": {
    "colab": {
     "base_uri": "https://localhost:8080/",
     "height": 566,
     "referenced_widgets": [
      "a7acfd3ab6ed44fe8c0bdf49c8f672f3",
      "f3cbd60fc28c4884b071d44c64c9d25c",
      "1a4c040f58e3412e8f1ba45ccc3f3e5f",
      "6cb0121ead154ef38dae6658f28bf8c9",
      "be16063a290f4521807f087741db2b09",
      "35fd885eaeb04d7b911793502741d57a",
      "3ac737a7a6a84ba4b7dedbaa71fcd365",
      "4e52761a2bad44c18acd1b7b7b5dd1ef"
     ]
    },
    "id": "ynvXj_tXcwJA",
    "outputId": "8684b5ec-e12e-4eba-afab-4d056284e299"
   },
   "outputs": [
    {
     "name": "stdout",
     "output_type": "stream",
     "text": [
      " Test Accuracy:  81.57051282051282\n",
      " ROC AUC:  0.755128205128205\n",
      " PR AUC:  0.8861991512463679\n",
      " Classification report: \n",
      "              precision    recall  f1-score   support\n",
      "\n",
      "      Normal       0.99      0.51      0.68       234\n",
      "   Pneumonia       0.77      1.00      0.87       390\n",
      "\n",
      "    accuracy                           0.82       624\n",
      "   macro avg       0.88      0.76      0.77       624\n",
      "weighted avg       0.86      0.82      0.80       624\n",
      "\n"
     ]
    },
    {
     "data": {
      "text/plain": [
       "<matplotlib.axes._subplots.AxesSubplot at 0x21a13de0a90>"
      ]
     },
     "execution_count": 7,
     "metadata": {},
     "output_type": "execute_result"
    },
    {
     "data": {
      "image/png": "[encoded data removed]",
      "text/plain": [
       "<Figure size 432x288 with 2 Axes>"
      ]
     },
     "metadata": {
      "needs_background": "light"
     },
     "output_type": "display_data"
    }
   ],
   "source": [
    "model2 = torchvision.models.vgg16(pretrained=True)\n",
    "# freeze the model layer\n",
    "for param in model2.parameters():\n",
    "    param.requires_grad = False\n",
    "\n",
    "# add Linear classifier layer\n",
    "in_features = model2.classifier[0].in_features\n",
    "classifier = nn.Sequential(\n",
    "    nn.Linear(in_features, 2)\n",
    ")\n",
    "model2.classifier = classifier\n",
    "model2.to(device)\n",
    "\n",
    "vgg_roc, vgg_test_accuracy, vgg_pr, vgg_cm, vgg_cr = Models.test(model2, device, test_loader, test_count,\n",
    "                                                               'vgg16_v1_checkpoint.model')      \n",
    "\n",
    "print(' Test Accuracy: ', vgg_test_accuracy*100)\n",
    "print(' ROC AUC: ', vgg_roc)\n",
    "print(' PR AUC: ', vgg_pr)\n",
    "print(' Classification report: ')\n",
    "print(vgg_cr)\n",
    "sns.heatmap(vgg_cm, annot=True, fmt='.4g', xticklabels=['Normal', 'Pneumonia'],\n",
    "            yticklabels=['Normal', 'Pneumonia'], cmap='Blues')"
   ]
  },
  {
   "cell_type": "markdown",
   "metadata": {
    "id": "4dYUJtHXcwJA"
   },
   "source": [
    "### Evaluating after improving my model."
   ]
  },
  {
   "cell_type": "code",
   "execution_count": 8,
   "metadata": {
    "colab": {
     "base_uri": "https://localhost:8080/",
     "height": 500
    },
    "id": "LIXL0FAHcwJB",
    "outputId": "773ecb0e-b427-4ac0-86d5-cef1c2da74e2"
   },
   "outputs": [
    {
     "name": "stdout",
     "output_type": "stream",
     "text": [
      " Test Accuracy:  86.85897435897436\n",
      " ROC AUC:  0.8367521367521368\n",
      " PR AUC:  0.9166926541926542\n",
      " Classification report: \n",
      "              precision    recall  f1-score   support\n",
      "\n",
      "      Normal       0.92      0.71      0.80       234\n",
      "   Pneumonia       0.85      0.96      0.90       390\n",
      "\n",
      "    accuracy                           0.87       624\n",
      "   macro avg       0.88      0.84      0.85       624\n",
      "weighted avg       0.88      0.87      0.86       624\n",
      "\n"
     ]
    },
    {
     "data": {
      "text/plain": [
       "<matplotlib.axes._subplots.AxesSubplot at 0x21a24956340>"
      ]
     },
     "execution_count": 8,
     "metadata": {},
     "output_type": "execute_result"
    },
    {
     "data": {
      "image/png": "[encoded data removed]",
      "text/plain": [
       "<Figure size 432x288 with 2 Axes>"
      ]
     },
     "metadata": {
      "needs_background": "light"
     },
     "output_type": "display_data"
    }
   ],
   "source": [
    "model3 = Models.cnn2()\n",
    "model3.to(device)\n",
    "\n",
    "v2_roc, v2_test_accuracy, v2_pr, v2_cm, v2_cr = Models.test(model3, device, test_loader, test_count,\n",
    "                                                               'proposed_v2_checkpoint.model')      \n",
    "\n",
    "print(' Test Accuracy: ', v2_test_accuracy*100)\n",
    "print(' ROC AUC: ', v2_roc)\n",
    "print(' PR AUC: ', v2_pr)\n",
    "print(' Classification report: ')\n",
    "print(v2_cr)\n",
    "sns.heatmap(v2_cm, annot=True, fmt='.4g', xticklabels=['Normal', 'Pneumonia'],\n",
    "            yticklabels=['Normal', 'Pneumonia'], cmap='Blues')"
   ]
  },
  {
   "cell_type": "markdown",
   "metadata": {
    "id": "Tc8cwiWFcwJC"
   },
   "source": [
    "### Evaluating VGG16 after transfer learning"
   ]
  },
  {
   "cell_type": "code",
   "execution_count": 9,
   "metadata": {
    "colab": {
     "base_uri": "https://localhost:8080/",
     "height": 500
    },
    "id": "HiWicc1HcwJC",
    "outputId": "255baa83-4012-46c1-8519-94b8959a76ea"
   },
   "outputs": [
    {
     "name": "stdout",
     "output_type": "stream",
     "text": [
      " Test Accuracy:  89.26282051282051\n",
      " ROC AUC:  0.8705128205128205\n",
      " PR AUC:  0.9323076923076923\n",
      " Classification report: \n",
      "              precision    recall  f1-score   support\n",
      "\n",
      "      Normal       0.92      0.78      0.85       234\n",
      "   Pneumonia       0.88      0.96      0.92       390\n",
      "\n",
      "    accuracy                           0.89       624\n",
      "   macro avg       0.90      0.87      0.88       624\n",
      "weighted avg       0.89      0.89      0.89       624\n",
      "\n"
     ]
    },
    {
     "data": {
      "text/plain": [
       "<matplotlib.axes._subplots.AxesSubplot at 0x21a13df3dc0>"
      ]
     },
     "execution_count": 9,
     "metadata": {},
     "output_type": "execute_result"
    },
    {
     "data": {
      "image/png": "[encoded data removed]",
      "text/plain": [
       "<Figure size 432x288 with 2 Axes>"
      ]
     },
     "metadata": {
      "needs_background": "light"
     },
     "output_type": "display_data"
    }
   ],
   "source": [
    "model4 = torchvision.models.vgg16(pretrained=True)\n",
    "\n",
    "for param in model4.parameters():\n",
    "    param.requires_grad = False\n",
    "\n",
    "\n",
    "in_features = model4.classifier[0].in_features\n",
    "classifier = nn.Sequential(\n",
    "    nn.Dropout(0.5),\n",
    "    nn.Linear(in_features, 256),\n",
    "    nn.BatchNorm1d(256),\n",
    "    nn.ReLU(),\n",
    "    nn.Dropout(0.5),\n",
    "    nn.Linear(256, 2)\n",
    ")\n",
    "model4.classifier = classifier\n",
    "model4.to(device)\n",
    "\n",
    "vggv2_roc, vggv2_test_accuracy, vggv2_pr, vggv2_cm, vggv2_cr = Models.test(model4, device, test_loader, test_count,\n",
    "                                                               'vgg16_v2_checkpoint.model')      \n",
    "\n",
    "print(' Test Accuracy: ', vggv2_test_accuracy*100)\n",
    "print(' ROC AUC: ', vggv2_roc)\n",
    "print(' PR AUC: ', vggv2_pr)\n",
    "print(' Classification report: ')\n",
    "print(vggv2_cr)\n",
    "sns.heatmap(vggv2_cm, annot=True, fmt='.4g', xticklabels=['Normal', 'Pneumonia'],\n",
    "            yticklabels=['Normal', 'Pneumonia'], cmap='Blues')"
   ]
  },
  {
   "cell_type": "markdown",
   "metadata": {
    "id": "YL64xpoYcwJD"
   },
   "source": [
    "### Test Results"
   ]
  },
  {
   "cell_type": "code",
   "execution_count": 10,
   "metadata": {
    "colab": {
     "base_uri": "https://localhost:8080/",
     "height": 364
    },
    "id": "DEeRSgtCcwJD",
    "outputId": "873e25c3-9809-4cac-c7a9-06e37504eb7e"
   },
   "outputs": [
    {
     "data": {
      "image/png": "[encoded data removed]",
      "text/plain": [
       "<Figure size 432x288 with 1 Axes>"
      ]
     },
     "metadata": {
      "needs_background": "light"
     },
     "output_type": "display_data"
    },
    {
     "name": "stdout",
     "output_type": "stream",
     "text": [
      " MyModel before:  0.5564102564102564\n",
      " MyModel after:  0.8367521367521368\n",
      " Vgg16 before:  0.755128205128205\n",
      " Vgg16 after:  0.8705128205128205\n"
     ]
    }
   ],
   "source": [
    "labels = ['MyModel', 'Vgg16']\n",
    "after = [v2_roc,vggv2_roc]\n",
    "before = [v1_roc,vgg_roc]\n",
    "\n",
    "x = np.arange(len(labels)) \n",
    "width = 0.20  \n",
    "\n",
    "fig, ax = plt.subplots(figsize=(6,4))\n",
    "rects1 = ax.bar(x - width/2, before, width, label='Before improvement')\n",
    "rects2 = ax.bar(x + width/2, after, width, label='After improvement')\n",
    "\n",
    "ax.set_ylabel('AUC')\n",
    "ax.set_title('Testing AUC')\n",
    "ax.set_xticks(x)\n",
    "ax.set_yticks([0,0.1,0.2,0.3,0.4,0.5,0.6,0.7,0.8,0.9,1])\n",
    "ax.set_xticklabels(labels)\n",
    "ax.legend(loc='upper center')\n",
    "fig.tight_layout()\n",
    "plt.show()\n",
    "\n",
    "print(' MyModel before: ', v1_roc)\n",
    "print(' MyModel after: ', v2_roc)\n",
    "print(' Vgg16 before: ', vgg_roc)\n",
    "print(' Vgg16 after: ', vggv2_roc)"
   ]
  },
  {
   "cell_type": "markdown",
   "metadata": {},
   "source": [
    "From the above graph we can see that earlier the proposed model had an ROC AUC score of 0.55 on test data which very less than the training AUC score which was 0.96 and the vgg16 model had an AUC score of 0.75 on test data which is also less than the training AUC score which was 0.94. So both the models are clearly overfitting in this case. After improving both the models, proposed model had an AUC score of 0.83 and vgg16 had an AUC score of 0.87 thus indicating that the models are now performing very well."
   ]
  },
  {
   "cell_type": "code",
   "execution_count": 11,
   "metadata": {
    "colab": {
     "base_uri": "https://localhost:8080/",
     "height": 478
    },
    "id": "Gk_ZMdqLcwJE",
    "outputId": "9793c7f6-e0d3-48a4-a3c6-26b57a60fd77"
   },
   "outputs": [
    {
     "data": {
      "image/png": "[encoded data removed]",
      "text/plain": [
       "<Figure size 500x400 with 1 Axes>"
      ]
     },
     "metadata": {},
     "output_type": "display_data"
    },
    {
     "name": "stdout",
     "output_type": "stream",
     "text": [
      " MyModel before:  0.821435676392573\n",
      " MyModel after:  0.9166926541926542\n",
      " Vgg16 before:  0.8861991512463679\n",
      " Vgg16 after:  0.9323076923076923\n"
     ]
    }
   ],
   "source": [
    "plt.rcdefaults()\n",
    "fig, ax = plt.subplots(figsize=(5,4))\n",
    "\n",
    "models = ('MyModel v1', 'MyModel v2', 'Vgg16 v1', 'Vgg16 v2')\n",
    "ax.bar('v1', v1_pr, align='center')\n",
    "ax.bar('v2', v2_pr, align='center')\n",
    "ax.bar('vggv1', vgg_pr, align='center')\n",
    "ax.bar('vggv2', vggv2_pr, align='center')\n",
    "ax.set_yticks([0,0.2,0.4,0.6,0.8,1])\n",
    "ax.set_xticklabels(models)\n",
    "ax.set_xlabel('Models')\n",
    "ax.set_title('Precision-Recall AUC')\n",
    "plt.show()\n",
    "\n",
    "print(' MyModel before: ', v1_pr)\n",
    "print(' MyModel after: ', v2_pr)\n",
    "print(' Vgg16 before: ', vgg_pr)\n",
    "print(' Vgg16 after: ', vggv2_pr)"
   ]
  },
  {
   "cell_type": "markdown",
   "metadata": {},
   "source": [
    "So the above Precision-Recall AUC scores clearly indicates how the performance of the models increased after improvements."
   ]
  }
 ],
 "metadata": {
  "accelerator": "GPU",
  "colab": {
   "name": "Test_Evaluation.ipynb",
   "provenance": [],
   "toc_visible": true
  },
  "kernelspec": {
   "display_name": "Python 3",
   "language": "python",
   "name": "python3"
  },
  "language_info": {
   "codemirror_mode": {
    "name": "ipython",
    "version": 3
   },
   "file_extension": ".py",
   "mimetype": "text/x-python",
   "name": "python",
   "nbconvert_exporter": "python",
   "pygments_lexer": "ipython3",
   "version": "3.8.3"
  },
  "widgets": {
   "application/vnd.jupyter.widget-state+json": {
    "1a4c040f58e3412e8f1ba45ccc3f3e5f": {
     "model_module": "@jupyter-widgets/controls",
     "model_name": "FloatProgressModel",
     "state": {
      "_dom_classes": [],
      "_model_module": "@jupyter-widgets/controls",
      "_model_module_version": "1.5.0",
      "_model_name": "FloatProgressModel",
      "_view_count": null,
      "_view_module": "@jupyter-widgets/controls",
      "_view_module_version": "1.5.0",
      "_view_name": "ProgressView",
      "bar_style": "success",
      "description": "100%",
      "description_tooltip": null,
      "layout": "IPY_MODEL_35fd885eaeb04d7b911793502741d57a",
      "max": 553433881,
      "min": 0,
      "orientation": "horizontal",
      "style": "IPY_MODEL_be16063a290f4521807f087741db2b09",
      "value": 553433881
     }
    },
    "35fd885eaeb04d7b911793502741d57a": {
     "model_module": "@jupyter-widgets/base",
     "model_name": "LayoutModel",
     "state": {
      "_model_module": "@jupyter-widgets/base",
      "_model_module_version": "1.2.0",
      "_model_name": "LayoutModel",
      "_view_count": null,
      "_view_module": "@jupyter-widgets/base",
      "_view_module_version": "1.2.0",
      "_view_name": "LayoutView",
      "align_content": null,
      "align_items": null,
      "align_self": null,
      "border": null,
      "bottom": null,
      "display": null,
      "flex": null,
      "flex_flow": null,
      "grid_area": null,
      "grid_auto_columns": null,
      "grid_auto_flow": null,
      "grid_auto_rows": null,
      "grid_column": null,
      "grid_gap": null,
      "grid_row": null,
      "grid_template_areas": null,
      "grid_template_columns": null,
      "grid_template_rows": null,
      "height": null,
      "justify_content": null,
      "justify_items": null,
      "left": null,
      "margin": null,
      "max_height": null,
      "max_width": null,
      "min_height": null,
      "min_width": null,
      "object_fit": null,
      "object_position": null,
      "order": null,
      "overflow": null,
      "overflow_x": null,
      "overflow_y": null,
      "padding": null,
      "right": null,
      "top": null,
      "visibility": null,
      "width": null
     }
    },
    "3ac737a7a6a84ba4b7dedbaa71fcd365": {
     "model_module": "@jupyter-widgets/controls",
     "model_name": "DescriptionStyleModel",
     "state": {
      "_model_module": "@jupyter-widgets/controls",
      "_model_module_version": "1.5.0",
      "_model_name": "DescriptionStyleModel",
      "_view_count": null,
      "_view_module": "@jupyter-widgets/base",
      "_view_module_version": "1.2.0",
      "_view_name": "StyleView",
      "description_width": ""
     }
    },
    "4e52761a2bad44c18acd1b7b7b5dd1ef": {
     "model_module": "@jupyter-widgets/base",
     "model_name": "LayoutModel",
     "state": {
      "_model_module": "@jupyter-widgets/base",
      "_model_module_version": "1.2.0",
      "_model_name": "LayoutModel",
      "_view_count": null,
      "_view_module": "@jupyter-widgets/base",
      "_view_module_version": "1.2.0",
      "_view_name": "LayoutView",
      "align_content": null,
      "align_items": null,
      "align_self": null,
      "border": null,
      "bottom": null,
      "display": null,
      "flex": null,
      "flex_flow": null,
      "grid_area": null,
      "grid_auto_columns": null,
      "grid_auto_flow": null,
      "grid_auto_rows": null,
      "grid_column": null,
      "grid_gap": null,
      "grid_row": null,
      "grid_template_areas": null,
      "grid_template_columns": null,
      "grid_template_rows": null,
      "height": null,
      "justify_content": null,
      "justify_items": null,
      "left": null,
      "margin": null,
      "max_height": null,
      "max_width": null,
      "min_height": null,
      "min_width": null,
      "object_fit": null,
      "object_position": null,
      "order": null,
      "overflow": null,
      "overflow_x": null,
      "overflow_y": null,
      "padding": null,
      "right": null,
      "top": null,
      "visibility": null,
      "width": null
     }
    },
    "6cb0121ead154ef38dae6658f28bf8c9": {
     "model_module": "@jupyter-widgets/controls",
     "model_name": "HTMLModel",
     "state": {
      "_dom_classes": [],
      "_model_module": "@jupyter-widgets/controls",
      "_model_module_version": "1.5.0",
      "_model_name": "HTMLModel",
      "_view_count": null,
      "_view_module": "@jupyter-widgets/controls",
      "_view_module_version": "1.5.0",
      "_view_name": "HTMLView",
      "description": "",
      "description_tooltip": null,
      "layout": "IPY_MODEL_4e52761a2bad44c18acd1b7b7b5dd1ef",
      "placeholder": "​",
      "style": "IPY_MODEL_3ac737a7a6a84ba4b7dedbaa71fcd365",
      "value": " 528M/528M [00:28&lt;00:00, 19.6MB/s]"
     }
    },
    "a7acfd3ab6ed44fe8c0bdf49c8f672f3": {
     "model_module": "@jupyter-widgets/controls",
     "model_name": "HBoxModel",
     "state": {
      "_dom_classes": [],
      "_model_module": "@jupyter-widgets/controls",
      "_model_module_version": "1.5.0",
      "_model_name": "HBoxModel",
      "_view_count": null,
      "_view_module": "@jupyter-widgets/controls",
      "_view_module_version": "1.5.0",
      "_view_name": "HBoxView",
      "box_style": "",
      "children": [
       "IPY_MODEL_1a4c040f58e3412e8f1ba45ccc3f3e5f",
       "IPY_MODEL_6cb0121ead154ef38dae6658f28bf8c9"
      ],
      "layout": "IPY_MODEL_f3cbd60fc28c4884b071d44c64c9d25c"
     }
    },
    "be16063a290f4521807f087741db2b09": {
     "model_module": "@jupyter-widgets/controls",
     "model_name": "ProgressStyleModel",
     "state": {
      "_model_module": "@jupyter-widgets/controls",
      "_model_module_version": "1.5.0",
      "_model_name": "ProgressStyleModel",
      "_view_count": null,
      "_view_module": "@jupyter-widgets/base",
      "_view_module_version": "1.2.0",
      "_view_name": "StyleView",
      "bar_color": null,
      "description_width": "initial"
     }
    },
    "f3cbd60fc28c4884b071d44c64c9d25c": {
     "model_module": "@jupyter-widgets/base",
     "model_name": "LayoutModel",
     "state": {
      "_model_module": "@jupyter-widgets/base",
      "_model_module_version": "1.2.0",
      "_model_name": "LayoutModel",
      "_view_count": null,
      "_view_module": "@jupyter-widgets/base",
      "_view_module_version": "1.2.0",
      "_view_name": "LayoutView",
      "align_content": null,
      "align_items": null,
      "align_self": null,
      "border": null,
      "bottom": null,
      "display": null,
      "flex": null,
      "flex_flow": null,
      "grid_area": null,
      "grid_auto_columns": null,
      "grid_auto_flow": null,
      "grid_auto_rows": null,
      "grid_column": null,
      "grid_gap": null,
      "grid_row": null,
      "grid_template_areas": null,
      "grid_template_columns": null,
      "grid_template_rows": null,
      "height": null,
      "justify_content": null,
      "justify_items": null,
      "left": null,
      "margin": null,
      "max_height": null,
      "max_width": null,
      "min_height": null,
      "min_width": null,
      "object_fit": null,
      "object_position": null,
      "order": null,
      "overflow": null,
      "overflow_x": null,
      "overflow_y": null,
      "padding": null,
      "right": null,
      "top": null,
      "visibility": null,
      "width": null
     }
    }
   }
  }
 },
 "nbformat": 4,
 "nbformat_minor": 1
}
