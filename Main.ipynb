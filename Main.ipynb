{
 "cells": [
  {
   "cell_type": "markdown",
   "metadata": {},
   "source": [
    "<div align = 'right' ><h5>Name : Shubham Narandekar</h5></div>\n",
    "<div align = 'right' ><h5>Student Id : 20200132</h5></div>"
   ]
  },
  {
   "cell_type": "markdown",
   "metadata": {},
   "source": [
    "# Convolutional Neural Network for Pneumonia detection using chest X-Ray images"
   ]
  },
  {
   "cell_type": "code",
   "execution_count": 9,
   "metadata": {
    "id": "yjdSm-vZcy6c"
   },
   "outputs": [],
   "source": [
    "import os\n",
    "import numpy as np\n",
    "import pandas as pd\n",
    "import torch\n",
    "import random\n",
    "import torch.nn as nn\n",
    "from torchvision.transforms import transforms\n",
    "from torch.utils.data import DataLoader, Dataset\n",
    "from torch.optim import Adam, SGD\n",
    "from torch.autograd import Variable\n",
    "import torchvision\n",
    "import matplotlib.pyplot as plt\n",
    "import seaborn as sns\n",
    "from sample_data import Models\n",
    "from sklearn import metrics\n",
    "from sklearn.model_selection import train_test_split"
   ]
  },
  {
   "cell_type": "markdown",
   "metadata": {},
   "source": [
    "Checking if the GPU is available."
   ]
  },
  {
   "cell_type": "code",
   "execution_count": 10,
   "metadata": {
    "id": "Qa8d8cGrcy6j"
   },
   "outputs": [
    {
     "name": "stdout",
     "output_type": "stream",
     "text": [
      "cuda\n"
     ]
    }
   ],
   "source": [
    "device=torch.device('cuda' if torch.cuda.is_available() else 'cpu')\n",
    "print(device)"
   ]
  },
  {
   "cell_type": "markdown",
   "metadata": {
    "id": "Mc5pZ3_Kcy6l"
   },
   "source": [
    "### Data Preprocessing"
   ]
  },
  {
   "cell_type": "markdown",
   "metadata": {},
   "source": [
    "Resizing the images from (256,256) to (224,224) to avoid GPU memory issues with bigger images."
   ]
  },
  {
   "cell_type": "code",
   "execution_count": 11,
   "metadata": {
    "id": "TtHfd0Mncy6l"
   },
   "outputs": [],
   "source": [
    "#Transforms\n",
    "transformer2=transforms.Compose([\n",
    "    transforms.Resize((224,224)),\n",
    "    transforms.ToTensor() #0-255 to 0-1, numpy to tensors\n",
    "])\n"
   ]
  },
  {
   "cell_type": "code",
   "execution_count": 12,
   "metadata": {
    "colab": {
     "base_uri": "https://localhost:8080/",
     "height": 349
    },
    "id": "5T_5g2uycy6l",
    "outputId": "2f9e370b-76dd-421d-a1c0-d65159d1a4ba"
   },
   "outputs": [
    {
     "name": "stdout",
     "output_type": "stream",
     "text": [
      "Classes =  ['NORMAL', 'PNEUMONIA']\n",
      "Train =  5216\n",
      "Validation =  16\n"
     ]
    },
    {
     "data": {
      "text/plain": [
       "<BarContainer object of 2 artists>"
      ]
     },
     "execution_count": 12,
     "metadata": {},
     "output_type": "execute_result"
    },
    {
     "data": {
      "image/png": "[encoded data removed]",
      "text/plain": [
       "<Figure size 432x288 with 1 Axes>"
      ]
     },
     "metadata": {},
     "output_type": "display_data"
    }
   ],
   "source": [
    "#Path for training and testing directory\n",
    "train_path='/content/drive/MyDrive/Colab Notebooks/chest_xray/train'\n",
    "valid_path='/content/drive/MyDrive/Colab Notebooks/chest_xray/val'\n",
    "\n",
    "#Dataloader\n",
    "btrain = torchvision.datasets.ImageFolder(train_path,transform=transformer2)\n",
    "bvalid = torchvision.datasets.ImageFolder(valid_path,transform=transformer2)\n",
    "\n",
    "print('Classes = ', btrain.classes)\n",
    "print('Train = ', len(btrain))\n",
    "print('Validation = ', len(bvalid))\n",
    "\n",
    "sns.set_theme(style=\"whitegrid\")\n",
    "plt.bar(['train','valid'], [len(btrain),len(bvalid)])"
   ]
  },
  {
   "cell_type": "markdown",
   "metadata": {},
   "source": [
    "As we can see from the above plot that there are just 16 images for our validation set. This small validation set won't be able to evaluate the model's performance in a robust manner. Re-sampling of training and validation test in needed in further pre-processing."
   ]
  },
  {
   "cell_type": "code",
   "execution_count": null,
   "metadata": {
    "id": "kEQRnqpfcy6m"
   },
   "outputs": [],
   "source": [
    "#To count the number of images per class.\n",
    "def class_count(dataset):\n",
    "    classes = []\n",
    "    class_names = dataset.classes\n",
    "    for _,label in dataset:\n",
    "        if label == 0:\n",
    "            classes.append(class_names[label])\n",
    "            \n",
    "        elif label == 1:\n",
    "            classes.append(class_names[label])\n",
    "            \n",
    "    return classes\n",
    "trainset_class_count = class_count(btrain)"
   ]
  },
  {
   "cell_type": "code",
   "execution_count": null,
   "metadata": {
    "colab": {
     "base_uri": "https://localhost:8080/",
     "height": 285
    },
    "id": "R4ihSj3wcy6m",
    "outputId": "13041697-4397-49ee-942f-f13f060d1959"
   },
   "outputs": [
    {
     "data": {
      "text/plain": [
       "<matplotlib.axes._subplots.AxesSubplot at 0x7f2ed189be90>"
      ]
     },
     "execution_count": 6,
     "metadata": {
      "tags": []
     },
     "output_type": "execute_result"
    },
    {
     "data": {
      "image/png": "[encoded data removed]",
      "text/plain": [
       "<Figure size 432x288 with 1 Axes>"
      ]
     },
     "metadata": {
      "tags": []
     },
     "output_type": "display_data"
    }
   ],
   "source": [
    "sns.set_theme(style=\"whitegrid\")\n",
    "sns.countplot(x=trainset_class_count)"
   ]
  },
  {
   "cell_type": "markdown",
   "metadata": {},
   "source": [
    "From the above plot we can see that there is no balance in the images from both the class. If such data is used for training then the model might favour the majority class and can lead to poor predictions for minority class. I am going to handle this issue of class imbalance further in the notebook."
   ]
  },
  {
   "cell_type": "markdown",
   "metadata": {},
   "source": [
    "Now that we have only 16 images in our validation set, I am going to combine the training and validation set and again split them with appropriate spliting criteria to have enough images in the validation set."
   ]
  },
  {
   "cell_type": "code",
   "execution_count": null,
   "metadata": {
    "id": "TBIKot8Dcy6n"
   },
   "outputs": [],
   "source": [
    "#Combining train and valid dataset into a single dataframe\n",
    "def combine(train, valid):\n",
    "    comb = pd.DataFrame({\n",
    "      'source': np.full(len(train), 't'),\n",
    "      'index' : np.arange(len(train))\n",
    "      })\n",
    "\n",
    "    for i in range(len(valid)):\n",
    "        row = pd.Series({\n",
    "        'source': 'v',\n",
    "        'index' : i\n",
    "        })\n",
    "        row.name = len(train) + i + 1\n",
    "        comb = comb.append(row)\n",
    "    return comb"
   ]
  },
  {
   "cell_type": "code",
   "execution_count": null,
   "metadata": {
    "colab": {
     "base_uri": "https://localhost:8080/"
    },
    "id": "TAQQ8d9Ecy6n",
    "outputId": "2f1d346e-bf7f-4f68-f6b6-00384c4a16b4"
   },
   "outputs": [
    {
     "data": {
      "text/plain": [
       "(4717, 525)"
      ]
     },
     "execution_count": 8,
     "metadata": {
      "tags": []
     },
     "output_type": "execute_result"
    }
   ],
   "source": [
    "comb = combine(btrain, bvalid)\n",
    "train_df, val_df = train_test_split(comb, test_size=0.1, random_state=0)\n",
    "len(train_df), len(val_df)"
   ]
  },
  {
   "cell_type": "code",
   "execution_count": null,
   "metadata": {
    "id": "bz4aDu6Ncy6n"
   },
   "outputs": [],
   "source": [
    "#For converting dataframe back to dataset\n",
    "class FrametoDataset(Dataset):\n",
    "    \"\"\"Wrap a dataloader to move data to a device\"\"\"\n",
    "    def __init__(self, name, df, train, valid):\n",
    "        self.name = name\n",
    "        self.df = df\n",
    "        self.train = train\n",
    "        self.valid = valid\n",
    "        \n",
    "    def __getitem__(self, index):\n",
    "        row = self.df.iloc[index]\n",
    "        if row['source'] == 't':        \n",
    "            return (self.train[row['index']][0], self.train[row['index']][1])\n",
    "        else:\n",
    "            return (self.valid[row['index']][0], self.valid[row['index']][1])\n",
    "\n",
    "    def __len__(self):\n",
    "        return len(self.df)"
   ]
  },
  {
   "cell_type": "code",
   "execution_count": null,
   "metadata": {
    "colab": {
     "base_uri": "https://localhost:8080/",
     "height": 302
    },
    "id": "4NCYxGYPcy6o",
    "outputId": "d06f4c9c-61b9-48dd-fabd-e87f4ccf3b5d"
   },
   "outputs": [
    {
     "name": "stdout",
     "output_type": "stream",
     "text": [
      "Train =  4717\n",
      "Validation =  525\n"
     ]
    },
    {
     "data": {
      "image/png": "[encoded data removed]",
      "text/plain": [
       "<Figure size 432x288 with 1 Axes>"
      ]
     },
     "metadata": {
      "tags": []
     },
     "output_type": "display_data"
    }
   ],
   "source": [
    "bvalid = FrametoDataset('valid', val_df, btrain, bvalid)\n",
    "btrain = FrametoDataset('train', train_df, btrain, bvalid)\n",
    "\n",
    "plt.bar(['train','valid'], [len(btrain),len(bvalid)])\n",
    "print('Train = ', len(btrain))\n",
    "print('Validation = ', len(bvalid))"
   ]
  },
  {
   "cell_type": "markdown",
   "metadata": {},
   "source": [
    "After combining now we can see that there are enough images in the validation set."
   ]
  },
  {
   "cell_type": "markdown",
   "metadata": {},
   "source": [
    "I tried using 64 and 128 as the batch size but as it depends on the GPU's capacity, I got cuda out of memory error. So I decided to use smaller batch size because they usually have faster convergence to good results. Batch size 8 worked best for my training data and it also lowered the generalization error."
   ]
  },
  {
   "cell_type": "code",
   "execution_count": null,
   "metadata": {
    "id": "NlIJVqwUcy6o"
   },
   "outputs": [],
   "source": [
    "Models.seed()\n",
    "btrain_loader=DataLoader(\n",
    "    btrain, batch_size=8, shuffle=True\n",
    ")\n",
    "bvalid_loader=DataLoader(\n",
    "    bvalid, batch_size=4, shuffle=True\n",
    ")"
   ]
  },
  {
   "cell_type": "code",
   "execution_count": null,
   "metadata": {
    "colab": {
     "base_uri": "https://localhost:8080/"
    },
    "id": "Vk3H39gBcy6o",
    "outputId": "12b3b4bd-4264-4a62-af37-37c167e36d61"
   },
   "outputs": [
    {
     "name": "stdout",
     "output_type": "stream",
     "text": [
      "4717 525\n"
     ]
    }
   ],
   "source": [
    "#calculating the size of training and validation images\n",
    "train_count=len(btrain)\n",
    "val_count =len(bvalid)\n",
    "print(train_count,val_count)"
   ]
  },
  {
   "cell_type": "markdown",
   "metadata": {},
   "source": [
    "Initially I have started with training my proposed model using the baseline approach. I will also follow the baseline approach for the pre-trained VGG16 model by tuning it with just a single fully connected layer. After these models are trained I am going to save the best model and evaluate their performance on unseen test data. Depending on the results I will further decide the steps that I could take to improve both the models."
   ]
  },
  {
   "cell_type": "markdown",
   "metadata": {
    "id": "ClM1x51Icy6p"
   },
   "source": [
    "### Proposed Model (Basic)"
   ]
  },
  {
   "cell_type": "code",
   "execution_count": null,
   "metadata": {
    "colab": {
     "base_uri": "https://localhost:8080/"
    },
    "id": "LOQlrIC4cy6p",
    "outputId": "432b1cc0-a76c-4447-ee49-a53195eb17e2"
   },
   "outputs": [
    {
     "data": {
      "text/plain": [
       "cnn(\n",
       "  (conv1): Conv2d(3, 32, kernel_size=(3, 3), stride=(1, 1), padding=(1, 1))\n",
       "  (relu1): ReLU()\n",
       "  (pool1): MaxPool2d(kernel_size=2, stride=2, padding=0, dilation=1, ceil_mode=False)\n",
       "  (conv2): Conv2d(32, 64, kernel_size=(3, 3), stride=(1, 1), padding=(1, 1))\n",
       "  (relu2): ReLU()\n",
       "  (pool2): MaxPool2d(kernel_size=2, stride=2, padding=0, dilation=1, ceil_mode=False)\n",
       "  (conv3): Conv2d(64, 128, kernel_size=(3, 3), stride=(1, 1), padding=(1, 1))\n",
       "  (relu3): ReLU()\n",
       "  (fc): Linear(in_features=401408, out_features=2, bias=True)\n",
       ")"
      ]
     },
     "execution_count": 13,
     "metadata": {
      "tags": []
     },
     "output_type": "execute_result"
    }
   ],
   "source": [
    "model = Models.cnn()\n",
    "model.to(device)"
   ]
  },
  {
   "cell_type": "markdown",
   "metadata": {},
   "source": [
    "In the above architecture non linear activation function for the final layer is not specified because I am using CrossEntropyLoss function which internally combines LogSoftmax and NLLLoss function."
   ]
  },
  {
   "cell_type": "code",
   "execution_count": null,
   "metadata": {
    "id": "J_wP_6_ncy6p"
   },
   "outputs": [],
   "source": [
    "optimizer=Adam(model.parameters(),lr=0.001)\n",
    "loss_function=nn.CrossEntropyLoss()"
   ]
  },
  {
   "cell_type": "code",
   "execution_count": null,
   "metadata": {
    "colab": {
     "base_uri": "https://localhost:8080/"
    },
    "id": "Ag9AlCficy6p",
    "outputId": "0a27b7b8-bf02-464d-9844-fc9ee9072c2a"
   },
   "outputs": [
    {
     "name": "stdout",
     "output_type": "stream",
     "text": [
      "Epoch: 0 Train Loss: tensor(0.2504) Train AUC: 0.856942940769847 Validation loss: tensor(0.1368) Validation AUC: 0.8853383458646615\n",
      "Epoch: 1 Train Loss: tensor(0.1048) Train AUC: 0.947855028718034 Validation loss: tensor(0.1180) Validation AUC: 0.922514619883041\n",
      "Epoch: 2 Train Loss: tensor(0.0871) Train AUC: 0.9579774376070855 Validation loss: tensor(0.1227) Validation AUC: 0.9630325814536341\n",
      "Epoch: 3 Train Loss: tensor(0.0626) Train AUC: 0.9672424586710441 Validation loss: tensor(0.0934) Validation AUC: 0.9477861319966584\n",
      "Epoch: 4 Train Loss: tensor(0.0568) Train AUC: 0.9715268167165753 Validation loss: tensor(0.1010) Validation AUC: 0.9371345029239767\n",
      "Epoch: 5 Train Loss: tensor(0.0551) Train AUC: 0.9748108889661647 Validation loss: tensor(0.1142) Validation AUC: 0.9369256474519632\n",
      "Epoch: 6 Train Loss: tensor(0.0264) Train AUC: 0.9891994710193999 Validation loss: tensor(0.1006) Validation AUC: 0.9438178780284044\n",
      "Epoch: 7 Train Loss: tensor(0.0251) Train AUC: 0.9878432308363025 Validation loss: tensor(0.1170) Validation AUC: 0.9665831244778613\n",
      "Epoch: 8 Train Loss: tensor(0.0059) Train AUC: 0.9977681871104622 Validation loss: tensor(0.1826) Validation AUC: 0.9571846282372598\n",
      "Epoch: 9 Train Loss: tensor(0.0887) Train AUC: 0.9643143408086102 Validation loss: tensor(0.1655) Validation AUC: 0.969298245614035\n"
     ]
    }
   ],
   "source": [
    "num_epochs = 10\n",
    "best_accuracy= 0.0\n",
    "v1_train_accuracy = 0.0\n",
    "v1_train_auc = 0.0\n",
    "best_loss = 1.0\n",
    "v1_tloss = []\n",
    "v1_vloss = []\n",
    "for epoch in range(num_epochs):\n",
    "    \n",
    "    #Evaluation and training on training dataset\n",
    "    t_roc, train_loss, train_accuracy = Models.fit(model, device, btrain_loader, train_count, optimizer, loss_function)\n",
    "    v1_tloss.append(train_loss)\n",
    "        \n",
    "    # Evaluation on validation dataset\n",
    "    v_roc, val_loss, test_accuracy = Models.evaluate(model, device, bvalid_loader, val_count, loss_function)\n",
    "    v1_vloss.append(val_loss)\n",
    "    \n",
    "    print('Epoch: '+str(epoch)+' Train Loss: '+str(train_loss)+' Train AUC: '+str(t_roc)+' Validation loss: '+str(val_loss)+' Validation AUC: '+str(v_roc))\n",
    "    \n",
    "    #Save the best model\n",
    "    if val_loss<=best_loss:\n",
    "        torch.save(model.state_dict(),'/content/drive/MyDrive/Colab Notebooks/proposed_v1_checkpoint.model')\n",
    "        best_loss=val_loss\n",
    "        v1_train_auc = t_roc\n",
    "       \n"
   ]
  },
  {
   "cell_type": "markdown",
   "metadata": {},
   "source": [
    "I am using the validation loss as the criteria to save the model. The epoch with lowest validation loss will be saved."
   ]
  },
  {
   "cell_type": "code",
   "execution_count": null,
   "metadata": {
    "colab": {
     "base_uri": "https://localhost:8080/"
    },
    "id": "dqvgZ7l0cy6q",
    "outputId": "e083287c-cc1e-465b-81b9-44313ed37bfb"
   },
   "outputs": [
    {
     "name": "stdout",
     "output_type": "stream",
     "text": [
      "0.9672424586710441\n"
     ]
    }
   ],
   "source": [
    "print(v1_train_auc)"
   ]
  },
  {
   "cell_type": "markdown",
   "metadata": {},
   "source": [
    "The AUC score displayed above is the training AUC score for that epoch where the best model was saved."
   ]
  },
  {
   "cell_type": "code",
   "execution_count": null,
   "metadata": {
    "colab": {
     "base_uri": "https://localhost:8080/",
     "height": 301
    },
    "id": "0x-4xe5gcy6q",
    "outputId": "04e5d8f0-4798-484a-be53-a3eb182d87e2"
   },
   "outputs": [
    {
     "data": {
      "image/png": "[encoded data removed]",
      "text/plain": [
       "<Figure size 432x288 with 1 Axes>"
      ]
     },
     "metadata": {
      "tags": []
     },
     "output_type": "display_data"
    }
   ],
   "source": [
    "plt.plot(v1_tloss)\n",
    "plt.plot(v1_vloss)\n",
    "plt.title('model loss')\n",
    "plt.ylabel('Loss')\n",
    "plt.xlabel('Epochs')\n",
    "plt.legend(['train', 'val'], loc='upper right')\n",
    "plt.show()"
   ]
  },
  {
   "cell_type": "markdown",
   "metadata": {},
   "source": [
    "From the above graph for loss we can clearly see that the validation loss is going much high than our training loss. This is a case of overfitting. My model is actually performing well on the training data but it failing to generalize well on the validation data."
   ]
  },
  {
   "cell_type": "markdown",
   "metadata": {
    "id": "gYLhtosPcy6r"
   },
   "source": [
    "### VGG_16 Model (Basic)"
   ]
  },
  {
   "cell_type": "code",
   "execution_count": null,
   "metadata": {
    "colab": {
     "base_uri": "https://localhost:8080/",
     "height": 738,
     "referenced_widgets": [
      "c2fcb3af5b8b4ab4bea232dd2fbde077",
      "c8001913030a4c65bf556f36c5cd2b6a",
      "49a2d58da901440188b9180660e1f498",
      "b8086ac6712f4c1c87e095b89e08fc70",
      "1bff892b6daa43deab7342b37ff02efc",
      "ed76af43b7ac48cdb58ba3f5915831e4",
      "f0ce70d878f3473383fc401bad765c81",
      "6760e2518ccf4e0cb7df391b77e584ac"
     ]
    },
    "id": "fFZedky9cy6r",
    "outputId": "7bd916ce-c8a0-47e4-d0c7-50fbdb190201"
   },
   "outputs": [
    {
     "name": "stderr",
     "output_type": "stream",
     "text": [
      "Downloading: \"https://download.pytorch.org/models/vgg16-397923af.pth\" to /root/.cache/torch/hub/checkpoints/vgg16-397923af.pth\n"
     ]
    },
    {
     "data": {
      "application/vnd.jupyter.widget-view+json": {
       "model_id": "c2fcb3af5b8b4ab4bea232dd2fbde077",
       "version_major": 2,
       "version_minor": 0
      },
      "text/plain": [
       "HBox(children=(FloatProgress(value=0.0, max=553433881.0), HTML(value='')))"
      ]
     },
     "metadata": {
      "tags": []
     },
     "output_type": "display_data"
    },
    {
     "name": "stdout",
     "output_type": "stream",
     "text": [
      "\n"
     ]
    },
    {
     "data": {
      "text/plain": [
       "VGG(\n",
       "  (features): Sequential(\n",
       "    (0): Conv2d(3, 64, kernel_size=(3, 3), stride=(1, 1), padding=(1, 1))\n",
       "    (1): ReLU(inplace=True)\n",
       "    (2): Conv2d(64, 64, kernel_size=(3, 3), stride=(1, 1), padding=(1, 1))\n",
       "    (3): ReLU(inplace=True)\n",
       "    (4): MaxPool2d(kernel_size=2, stride=2, padding=0, dilation=1, ceil_mode=False)\n",
       "    (5): Conv2d(64, 128, kernel_size=(3, 3), stride=(1, 1), padding=(1, 1))\n",
       "    (6): ReLU(inplace=True)\n",
       "    (7): Conv2d(128, 128, kernel_size=(3, 3), stride=(1, 1), padding=(1, 1))\n",
       "    (8): ReLU(inplace=True)\n",
       "    (9): MaxPool2d(kernel_size=2, stride=2, padding=0, dilation=1, ceil_mode=False)\n",
       "    (10): Conv2d(128, 256, kernel_size=(3, 3), stride=(1, 1), padding=(1, 1))\n",
       "    (11): ReLU(inplace=True)\n",
       "    (12): Conv2d(256, 256, kernel_size=(3, 3), stride=(1, 1), padding=(1, 1))\n",
       "    (13): ReLU(inplace=True)\n",
       "    (14): Conv2d(256, 256, kernel_size=(3, 3), stride=(1, 1), padding=(1, 1))\n",
       "    (15): ReLU(inplace=True)\n",
       "    (16): MaxPool2d(kernel_size=2, stride=2, padding=0, dilation=1, ceil_mode=False)\n",
       "    (17): Conv2d(256, 512, kernel_size=(3, 3), stride=(1, 1), padding=(1, 1))\n",
       "    (18): ReLU(inplace=True)\n",
       "    (19): Conv2d(512, 512, kernel_size=(3, 3), stride=(1, 1), padding=(1, 1))\n",
       "    (20): ReLU(inplace=True)\n",
       "    (21): Conv2d(512, 512, kernel_size=(3, 3), stride=(1, 1), padding=(1, 1))\n",
       "    (22): ReLU(inplace=True)\n",
       "    (23): MaxPool2d(kernel_size=2, stride=2, padding=0, dilation=1, ceil_mode=False)\n",
       "    (24): Conv2d(512, 512, kernel_size=(3, 3), stride=(1, 1), padding=(1, 1))\n",
       "    (25): ReLU(inplace=True)\n",
       "    (26): Conv2d(512, 512, kernel_size=(3, 3), stride=(1, 1), padding=(1, 1))\n",
       "    (27): ReLU(inplace=True)\n",
       "    (28): Conv2d(512, 512, kernel_size=(3, 3), stride=(1, 1), padding=(1, 1))\n",
       "    (29): ReLU(inplace=True)\n",
       "    (30): MaxPool2d(kernel_size=2, stride=2, padding=0, dilation=1, ceil_mode=False)\n",
       "  )\n",
       "  (avgpool): AdaptiveAvgPool2d(output_size=(7, 7))\n",
       "  (classifier): Sequential(\n",
       "    (0): Linear(in_features=25088, out_features=2, bias=True)\n",
       "  )\n",
       ")"
      ]
     },
     "execution_count": 18,
     "metadata": {
      "tags": []
     },
     "output_type": "execute_result"
    }
   ],
   "source": [
    "model2 = torchvision.models.vgg16(pretrained=True)\n",
    "# freeze the model layer\n",
    "for param in model2.parameters():\n",
    "    param.requires_grad = False\n",
    "\n",
    "# add Linear classifier layer\n",
    "in_features = model2.classifier[0].in_features\n",
    "classifier = nn.Sequential(\n",
    "    nn.Linear(in_features, 2)\n",
    ")\n",
    "model2.classifier = classifier\n",
    "model2.to(device)"
   ]
  },
  {
   "cell_type": "markdown",
   "metadata": {},
   "source": [
    "As we can see, I have just used a single fully connected layer to fine tune the model. Depending on its results I will further improve the model. Also, I have not specified the non linear activation function because I am using CrossEntropyLoss which internally combines the LogSoftmax and NLLLoss function."
   ]
  },
  {
   "cell_type": "code",
   "execution_count": null,
   "metadata": {
    "id": "7ndHRF98cy6r"
   },
   "outputs": [],
   "source": [
    "optimizer=Adam(model2.parameters(),lr=0.001)\n",
    "loss_function=nn.CrossEntropyLoss()"
   ]
  },
  {
   "cell_type": "code",
   "execution_count": null,
   "metadata": {
    "colab": {
     "base_uri": "https://localhost:8080/"
    },
    "id": "8u-tS0AEcy6s",
    "outputId": "3a9179e0-a6f1-454e-c21a-ed6c3c7d4a6d"
   },
   "outputs": [
    {
     "name": "stdout",
     "output_type": "stream",
     "text": [
      "Epoch: 0 Train Loss: tensor(0.1408) Train AUC: 0.9493541668719798 Validation loss: tensor(0.0711) Validation AUC: 0.9711779448621554\n",
      "Epoch: 1 Train Loss: tensor(0.0603) Train AUC: 0.983790114088426 Validation loss: tensor(0.1275) Validation AUC: 0.9797410192147034\n",
      "Epoch: 2 Train Loss: tensor(0.0394) Train AUC: 0.9865753339800112 Validation loss: tensor(0.0813) Validation AUC: 0.9830827067669172\n",
      "Epoch: 3 Train Loss: tensor(0.0290) Train AUC: 0.9916988949692874 Validation loss: tensor(0.0729) Validation AUC: 0.9843358395989974\n",
      "Epoch: 4 Train Loss: tensor(0.0154) Train AUC: 0.9947517259212225 Validation loss: tensor(0.1077) Validation AUC: 0.9860066833751044\n",
      "Epoch: 5 Train Loss: tensor(0.0197) Train AUC: 0.9936449119171277 Validation loss: tensor(0.1101) Validation AUC: 0.9803675856307436\n",
      "Epoch: 6 Train Loss: tensor(0.0016) Train AUC: 0.9994465929979524 Validation loss: tensor(0.0917) Validation AUC: 0.9791144527986634\n",
      "Epoch: 7 Train Loss: tensor(0.0406) Train AUC: 0.9911454879672401 Validation loss: tensor(0.1258) Validation AUC: 0.9832915622389307\n",
      "Epoch: 8 Train Loss: tensor(0.0380) Train AUC: 0.9930733200337324 Validation loss: tensor(0.2441) Validation AUC: 0.9630325814536341\n",
      "Epoch: 9 Train Loss: tensor(0.0278) Train AUC: 0.992395199942184 Validation loss: tensor(0.1582) Validation AUC: 0.972639933166249\n"
     ]
    }
   ],
   "source": [
    "num_epochs = 10\n",
    "best_accuracy=0.0\n",
    "vgg_train_accuracy=0.0\n",
    "vgg_train_auc=0.0\n",
    "best_loss = 1.0\n",
    "vgg_tloss = []\n",
    "vgg_vloss = []\n",
    "for epoch in range(num_epochs):\n",
    "    \n",
    "    #Evaluation and training on training dataset\n",
    "    t_roc, train_loss, train_accuracy = Models.fit(model2, device, btrain_loader, train_count, optimizer, loss_function)\n",
    "    vgg_tloss.append(train_loss)\n",
    "        \n",
    "    # Evaluation on validation dataset\n",
    "    v_roc, val_loss, test_accuracy = Models.evaluate(model2, device, bvalid_loader, val_count, loss_function)\n",
    "    vgg_vloss.append(val_loss)\n",
    "    \n",
    "    print('Epoch: '+str(epoch)+' Train Loss: '+str(train_loss)+' Train AUC: '+str(t_roc)+' Validation loss: '+str(val_loss)+' Validation AUC: '+str(v_roc))\n",
    "    \n",
    "    #Save the best model\n",
    "    if val_loss<=best_loss:\n",
    "        torch.save(model2.state_dict(),'/content/drive/MyDrive/Colab Notebooks/vgg16_v1_checkpoint.model')\n",
    "        best_loss=val_loss\n",
    "        vgg_train_auc = t_roc"
   ]
  },
  {
   "cell_type": "code",
   "execution_count": null,
   "metadata": {
    "colab": {
     "base_uri": "https://localhost:8080/"
    },
    "id": "0IYRXIQJcy6s",
    "outputId": "3e787ad2-d4fe-4b2e-d15e-efd52307c5ab"
   },
   "outputs": [
    {
     "name": "stdout",
     "output_type": "stream",
     "text": [
      "0.9493541668719798\n"
     ]
    }
   ],
   "source": [
    "print(vgg_train_auc)"
   ]
  },
  {
   "cell_type": "code",
   "execution_count": null,
   "metadata": {
    "colab": {
     "base_uri": "https://localhost:8080/",
     "height": 301
    },
    "id": "qG4nM_mocy6s",
    "outputId": "9212b2be-bf7a-435f-9244-4c5f7ccaf7e4"
   },
   "outputs": [
    {
     "data": {
      "image/png": "[encoded data removed]",
      "text/plain": [
       "<Figure size 432x288 with 1 Axes>"
      ]
     },
     "metadata": {
      "tags": []
     },
     "output_type": "display_data"
    }
   ],
   "source": [
    "plt.plot(vgg_tloss)\n",
    "plt.plot(vgg_vloss)\n",
    "plt.title('model loss')\n",
    "plt.ylabel('Loss')\n",
    "plt.xlabel('Epochs')\n",
    "plt.legend(['train', 'val'], loc='upper right')\n",
    "plt.show()"
   ]
  },
  {
   "cell_type": "markdown",
   "metadata": {},
   "source": [
    "From the above graph for loss we can clearly see that the validation loss is going much high than our training loss. This is a case of overfitting. My model is actually performing well on the training data but it failing to generalize well on the validation data. So even the pre-trained VGG16 model is overfitting for my dataset."
   ]
  },
  {
   "cell_type": "markdown",
   "metadata": {},
   "source": [
    "###### There are mainly two techniques that we can use to resolve the issue of overfitting:\n",
    " - Data Augmentation: This technique is usually used to increase the number of images in your training dataset. We can flip the images horizontally and can also rotate the images to create more images.\n",
    " - Regularization: Dropout is a good regularization method that I am going to use to improve my models. It helps to reduce overfitting by randomly dropping neurons from the neural networks during each epoch. Since each time we are dropping neurons, the model does not favour particular neurons every time, thus reducing overfitting."
   ]
  },
  {
   "cell_type": "markdown",
   "metadata": {
    "id": "ziSteWwLcy6t"
   },
   "source": [
    "## Data Augmentation"
   ]
  },
  {
   "cell_type": "code",
   "execution_count": null,
   "metadata": {
    "id": "J2KJM9s9cy6t"
   },
   "outputs": [],
   "source": [
    "def datatransformation(flag = None):\n",
    "    \n",
    "    if flag=='TRAIN':\n",
    "\n",
    "        transformed = transforms.Compose([\n",
    "            \n",
    "                transforms.Resize((224,224)),\n",
    "                transforms.RandomHorizontalFlip(),\n",
    "                transforms.RandomRotation(degrees=30),\n",
    "                transforms.ToTensor(),\n",
    "                transforms.Normalize([0.485, 0.456, 0.406],[0.229, 0.224, 0.225])\n",
    "        ])\n",
    "    \n",
    "    elif flag=='TEST' or flag=='VAL':\n",
    "\n",
    "        transformed = transforms.Compose([\n",
    "\n",
    "                transforms.Resize((224,224)),\n",
    "                transforms.ToTensor(),\n",
    "                transforms.Normalize([0.485, 0.456, 0.406],[0.229, 0.224, 0.225])\n",
    "        ])\n",
    "        \n",
    "    return transformed\n",
    "\n",
    "train = torchvision.datasets.ImageFolder(train_path,transform=datatransformation('TRAIN'))\n",
    "valid = torchvision.datasets.ImageFolder(valid_path,transform=datatransformation('VAL'))"
   ]
  },
  {
   "cell_type": "code",
   "execution_count": null,
   "metadata": {
    "colab": {
     "base_uri": "https://localhost:8080/"
    },
    "id": "jXeSle0Ocy6t",
    "outputId": "e3f980d3-7bf3-402d-e507-63614cc3fde6"
   },
   "outputs": [
    {
     "data": {
      "text/plain": [
       "(4717, 525)"
      ]
     },
     "execution_count": 24,
     "metadata": {
      "tags": []
     },
     "output_type": "execute_result"
    }
   ],
   "source": [
    "#Combinning train and valid datasets into a dataframe and then splitting them.\n",
    "comb2= combine(train, valid)\n",
    "train_df2, val_df2 = train_test_split(comb2, test_size=0.1, random_state=0)\n",
    "len(train_df2), len(val_df2)"
   ]
  },
  {
   "cell_type": "code",
   "execution_count": null,
   "metadata": {
    "colab": {
     "base_uri": "https://localhost:8080/",
     "height": 302
    },
    "id": "Hr75DKgbcy6t",
    "outputId": "22d76ee7-a0dd-4e8f-c175-c63089d3c6e5"
   },
   "outputs": [
    {
     "name": "stdout",
     "output_type": "stream",
     "text": [
      "Train =  4717\n",
      "Validation =  525\n"
     ]
    },
    {
     "data": {
      "image/png": "[encoded data removed]",
      "text/plain": [
       "<Figure size 432x288 with 1 Axes>"
      ]
     },
     "metadata": {
      "tags": []
     },
     "output_type": "display_data"
    }
   ],
   "source": [
    "#Converting back to dataset from dataframe.\n",
    "valid = FrametoDataset('valid', val_df2, train, valid)\n",
    "train = FrametoDataset('train', train_df2, train, valid)\n",
    "\n",
    "plt.bar(['train','valid'], [len(train),len(valid)])\n",
    "print('Train = ', len(train))\n",
    "print('Validation = ', len(valid))"
   ]
  },
  {
   "cell_type": "code",
   "execution_count": null,
   "metadata": {
    "id": "3lzWxZBVcy6u"
   },
   "outputs": [],
   "source": [
    "#Data loader after augmentaion\n",
    "Models.seed()\n",
    "train_loader=DataLoader(\n",
    "    train, batch_size=8, shuffle=True\n",
    ")\n",
    "valid_loader=DataLoader(\n",
    "    valid, batch_size=4, shuffle=True\n",
    ")"
   ]
  },
  {
   "cell_type": "code",
   "execution_count": null,
   "metadata": {
    "colab": {
     "base_uri": "https://localhost:8080/"
    },
    "id": "YRAWXaGMcy6u",
    "outputId": "74489d8f-4353-4a32-a948-cac63d3e5192"
   },
   "outputs": [
    {
     "name": "stdout",
     "output_type": "stream",
     "text": [
      "4717 525\n"
     ]
    }
   ],
   "source": [
    "#calculating the size of training and validation images\n",
    "train_count=len(train)\n",
    "val_count =len(valid)\n",
    "print(train_count,val_count)"
   ]
  },
  {
   "cell_type": "markdown",
   "metadata": {},
   "source": [
    "After training the proposed model and VGG16 model using the baseline approach, I have analysed the loss curves for both the models and got to know that both the model are overfitting. So to improve the model I have used regularization techniques like dropouts in my proposed model as well as VGG16 model and have also applied data augmentation to the existing training data. Now lets train the imporved model and analyse their loss curves."
   ]
  },
  {
   "cell_type": "markdown",
   "metadata": {
    "id": "IRvDYIcvcy6u"
   },
   "source": [
    "### Proposed Model (With Improvemnets and changes)"
   ]
  },
  {
   "cell_type": "code",
   "execution_count": null,
   "metadata": {
    "colab": {
     "base_uri": "https://localhost:8080/"
    },
    "id": "UEFX0YENcy6u",
    "outputId": "682d8325-c372-4a93-9b14-278e72229b37"
   },
   "outputs": [
    {
     "data": {
      "text/plain": [
       "cnn2(\n",
       "  (conv1): Conv2d(3, 32, kernel_size=(3, 3), stride=(1, 1), padding=(1, 1))\n",
       "  (relu1): ReLU()\n",
       "  (pool0): MaxPool2d(kernel_size=2, stride=2, padding=0, dilation=1, ceil_mode=False)\n",
       "  (conv2): Conv2d(32, 64, kernel_size=(3, 3), stride=(1, 1), padding=(1, 1))\n",
       "  (relu2): ReLU()\n",
       "  (pool1): MaxPool2d(kernel_size=2, stride=2, padding=0, dilation=1, ceil_mode=False)\n",
       "  (conv3): Conv2d(64, 128, kernel_size=(3, 3), stride=(1, 1), padding=(1, 1), bias=False)\n",
       "  (batchnorm1): BatchNorm2d(128, eps=1e-05, momentum=0.1, affine=True, track_running_stats=True)\n",
       "  (relu3): ReLU()\n",
       "  (pool2): MaxPool2d(kernel_size=2, stride=2, padding=0, dilation=1, ceil_mode=False)\n",
       "  (conv4): Conv2d(128, 256, kernel_size=(3, 3), stride=(1, 1), padding=(1, 1), bias=False)\n",
       "  (batchnorm2): BatchNorm2d(256, eps=1e-05, momentum=0.1, affine=True, track_running_stats=True)\n",
       "  (relu4): ReLU()\n",
       "  (pool3): MaxPool2d(kernel_size=2, stride=2, padding=0, dilation=1, ceil_mode=False)\n",
       "  (dropout1): Dropout(p=0.5, inplace=False)\n",
       "  (fc1): Linear(in_features=50176, out_features=256, bias=True)\n",
       "  (relu5): ReLU()\n",
       "  (dropout2): Dropout(p=0.2, inplace=False)\n",
       "  (fc2): Linear(in_features=256, out_features=2, bias=True)\n",
       ")"
      ]
     },
     "execution_count": 28,
     "metadata": {
      "tags": []
     },
     "output_type": "execute_result"
    }
   ],
   "source": [
    "model3 = Models.cnn2()\n",
    "model3.to(device)"
   ]
  },
  {
   "cell_type": "markdown",
   "metadata": {},
   "source": [
    "As you can see that the proposed model was improved by adding dropouts before each fully connected layers. I have also added another convolutional layer and batch normalization for stabilizing the learning process."
   ]
  },
  {
   "cell_type": "markdown",
   "metadata": {},
   "source": [
    "Earlier we saw the plot for class imbalance. I din't resolve the issue of class imbalance in the baseline approach but now I will use some techniques in the impoved approach to resolve it. There are two things we can do for class imbalance issue: WeightedRandomSampler or specifying weights in the loss function. I got better results by using the second method so I am specifying weights in the loss function and assigning higher weight to the minority class 'Normal' and lower weight to the majority class 'Pneumonia'. By doing this we can give higher priority to the minority class while computing the loss for that class.\n"
   ]
  },
  {
   "cell_type": "code",
   "execution_count": null,
   "metadata": {
    "id": "6uxRKqQScy6v"
   },
   "outputs": [],
   "source": [
    "optimizer=Adam(model3.parameters(),lr=0.001)\n",
    "loss_function=nn.CrossEntropyLoss(weight=torch.FloatTensor([0.80,0.20]).cuda())"
   ]
  },
  {
   "cell_type": "code",
   "execution_count": null,
   "metadata": {
    "colab": {
     "base_uri": "https://localhost:8080/"
    },
    "id": "FOgH58-Mcy6v",
    "outputId": "607625d3-372a-41c2-aea1-498460e67198"
   },
   "outputs": [
    {
     "name": "stdout",
     "output_type": "stream",
     "text": [
      "Epoch: 0 Train Loss: tensor(0.7593) Train AUC: 0.871815006023302 Validation loss: tensor(0.1634) Validation AUC: 0.9298245614035089\n",
      "Epoch: 1 Train Loss: tensor(0.1899) Train AUC: 0.9244171804188952 Validation loss: tensor(0.1446) Validation AUC: 0.9538429406850459\n",
      "Epoch: 2 Train Loss: tensor(0.1921) Train AUC: 0.926700966872543 Validation loss: tensor(0.3235) Validation AUC: 0.8865914786967418\n",
      "Epoch: 3 Train Loss: tensor(0.1946) Train AUC: 0.9240768298331544 Validation loss: tensor(0.1430) Validation AUC: 0.9450710108604845\n",
      "Epoch: 4 Train Loss: tensor(0.1629) Train AUC: 0.9434148673019878 Validation loss: tensor(0.1725) Validation AUC: 0.9411027568922306\n",
      "Epoch: 5 Train Loss: tensor(0.1520) Train AUC: 0.9446126057128216 Validation loss: tensor(0.1777) Validation AUC: 0.9143692564745195\n",
      "Epoch: 6 Train Loss: tensor(0.1581) Train AUC: 0.9448620318918236 Validation loss: tensor(0.1178) Validation AUC: 0.9590643274853802\n",
      "Epoch: 7 Train Loss: tensor(0.1528) Train AUC: 0.9475225386939078 Validation loss: tensor(0.1558) Validation AUC: 0.9580200501253133\n",
      "Epoch: 8 Train Loss: tensor(0.1567) Train AUC: 0.9453270955670654 Validation loss: tensor(0.1509) Validation AUC: 0.9655388471177946\n",
      "Epoch: 9 Train Loss: tensor(0.1464) Train AUC: 0.9489359146009815 Validation loss: tensor(0.1080) Validation AUC: 0.970969089390142\n"
     ]
    }
   ],
   "source": [
    "num_epochs = 10\n",
    "best_accuracy=0.0\n",
    "v2_train_accuracy=0.0\n",
    "v2_train_auc=0.0\n",
    "best_loss = 1.0\n",
    "v2_tloss = []\n",
    "v2_vloss = []\n",
    "for epoch in range(num_epochs):\n",
    "    \n",
    "    #Evaluation and training on training dataset\n",
    "    t_roc, train_loss, train_accuracy = Models.fit(model3, device, train_loader, train_count, optimizer, loss_function)\n",
    "    v2_tloss.append(train_loss)\n",
    "        \n",
    "    # Evaluation on validation dataset\n",
    "    v_roc, val_loss, test_accuracy = Models.evaluate(model3, device, valid_loader, val_count, loss_function)\n",
    "    v2_vloss.append(val_loss)\n",
    "    \n",
    "    print('Epoch: '+str(epoch)+' Train Loss: '+str(train_loss)+' Train AUC: '+str(t_roc)+' Validation loss: '+str(val_loss)+' Validation AUC: '+str(v_roc))\n",
    "    \n",
    "    #Save the best model\n",
    "    if val_loss<=best_loss:\n",
    "        torch.save(model3.state_dict(),'/content/drive/MyDrive/Colab Notebooks/proposed_v2_checkpoint.model')\n",
    "        best_loss=val_loss\n",
    "        v2_train_auc = t_roc\n",
    "    \n",
    "       \n"
   ]
  },
  {
   "cell_type": "code",
   "execution_count": null,
   "metadata": {
    "colab": {
     "base_uri": "https://localhost:8080/"
    },
    "id": "Qjay4mIicy6v",
    "outputId": "93e593af-c0c9-43fe-aeb6-63186ec5129f"
   },
   "outputs": [
    {
     "name": "stdout",
     "output_type": "stream",
     "text": [
      "0.9489359146009815\n"
     ]
    }
   ],
   "source": [
    "print(v2_train_auc)"
   ]
  },
  {
   "cell_type": "code",
   "execution_count": null,
   "metadata": {
    "colab": {
     "base_uri": "https://localhost:8080/",
     "height": 301
    },
    "id": "ELULR6yRcy6w",
    "outputId": "8066bea5-6369-49cb-f1dc-a7689f1d169b"
   },
   "outputs": [
    {
     "data": {
      "image/png": "[encoded data removed]",
      "text/plain": [
       "<Figure size 432x288 with 1 Axes>"
      ]
     },
     "metadata": {
      "tags": []
     },
     "output_type": "display_data"
    }
   ],
   "source": [
    "plt.plot(v2_tloss)\n",
    "plt.plot(v2_vloss)\n",
    "plt.title('model loss')\n",
    "plt.ylabel('Loss')\n",
    "plt.xlabel('Epochs')\n",
    "plt.legend(['train', 'val'], loc='upper right')\n",
    "plt.show()"
   ]
  },
  {
   "cell_type": "markdown",
   "metadata": {},
   "source": [
    "From the above graph we can cearly see that now the proposed model is performing better after improvement because the validation loss curve is almost similar to the training loss curve. The validation loss is fluctuating a little because there is noise in the dataset."
   ]
  },
  {
   "cell_type": "markdown",
   "metadata": {
    "id": "gdThU1O9cy6w"
   },
   "source": [
    "### Transfer Learning with VGG_16 model (With Improvements)"
   ]
  },
  {
   "cell_type": "code",
   "execution_count": null,
   "metadata": {
    "colab": {
     "base_uri": "https://localhost:8080/"
    },
    "id": "674UV5_bcy6w",
    "outputId": "260b2808-370c-431e-f29e-8da368242a69"
   },
   "outputs": [
    {
     "data": {
      "text/plain": [
       "VGG(\n",
       "  (features): Sequential(\n",
       "    (0): Conv2d(3, 64, kernel_size=(3, 3), stride=(1, 1), padding=(1, 1))\n",
       "    (1): ReLU(inplace=True)\n",
       "    (2): Conv2d(64, 64, kernel_size=(3, 3), stride=(1, 1), padding=(1, 1))\n",
       "    (3): ReLU(inplace=True)\n",
       "    (4): MaxPool2d(kernel_size=2, stride=2, padding=0, dilation=1, ceil_mode=False)\n",
       "    (5): Conv2d(64, 128, kernel_size=(3, 3), stride=(1, 1), padding=(1, 1))\n",
       "    (6): ReLU(inplace=True)\n",
       "    (7): Conv2d(128, 128, kernel_size=(3, 3), stride=(1, 1), padding=(1, 1))\n",
       "    (8): ReLU(inplace=True)\n",
       "    (9): MaxPool2d(kernel_size=2, stride=2, padding=0, dilation=1, ceil_mode=False)\n",
       "    (10): Conv2d(128, 256, kernel_size=(3, 3), stride=(1, 1), padding=(1, 1))\n",
       "    (11): ReLU(inplace=True)\n",
       "    (12): Conv2d(256, 256, kernel_size=(3, 3), stride=(1, 1), padding=(1, 1))\n",
       "    (13): ReLU(inplace=True)\n",
       "    (14): Conv2d(256, 256, kernel_size=(3, 3), stride=(1, 1), padding=(1, 1))\n",
       "    (15): ReLU(inplace=True)\n",
       "    (16): MaxPool2d(kernel_size=2, stride=2, padding=0, dilation=1, ceil_mode=False)\n",
       "    (17): Conv2d(256, 512, kernel_size=(3, 3), stride=(1, 1), padding=(1, 1))\n",
       "    (18): ReLU(inplace=True)\n",
       "    (19): Conv2d(512, 512, kernel_size=(3, 3), stride=(1, 1), padding=(1, 1))\n",
       "    (20): ReLU(inplace=True)\n",
       "    (21): Conv2d(512, 512, kernel_size=(3, 3), stride=(1, 1), padding=(1, 1))\n",
       "    (22): ReLU(inplace=True)\n",
       "    (23): MaxPool2d(kernel_size=2, stride=2, padding=0, dilation=1, ceil_mode=False)\n",
       "    (24): Conv2d(512, 512, kernel_size=(3, 3), stride=(1, 1), padding=(1, 1))\n",
       "    (25): ReLU(inplace=True)\n",
       "    (26): Conv2d(512, 512, kernel_size=(3, 3), stride=(1, 1), padding=(1, 1))\n",
       "    (27): ReLU(inplace=True)\n",
       "    (28): Conv2d(512, 512, kernel_size=(3, 3), stride=(1, 1), padding=(1, 1))\n",
       "    (29): ReLU(inplace=True)\n",
       "    (30): MaxPool2d(kernel_size=2, stride=2, padding=0, dilation=1, ceil_mode=False)\n",
       "  )\n",
       "  (avgpool): AdaptiveAvgPool2d(output_size=(7, 7))\n",
       "  (classifier): Sequential(\n",
       "    (0): Dropout(p=0.5, inplace=False)\n",
       "    (1): Linear(in_features=25088, out_features=256, bias=True)\n",
       "    (2): BatchNorm1d(256, eps=1e-05, momentum=0.1, affine=True, track_running_stats=True)\n",
       "    (3): ReLU()\n",
       "    (4): Dropout(p=0.5, inplace=False)\n",
       "    (5): Linear(in_features=256, out_features=2, bias=True)\n",
       "  )\n",
       ")"
      ]
     },
     "execution_count": 33,
     "metadata": {
      "tags": []
     },
     "output_type": "execute_result"
    }
   ],
   "source": [
    "model4 = torchvision.models.vgg16(pretrained=True)\n",
    "\n",
    "for param in model4.parameters():\n",
    "    param.requires_grad = False\n",
    "\n",
    "\n",
    "in_features = model4.classifier[0].in_features\n",
    "classifier = nn.Sequential(\n",
    "    nn.Dropout(0.5),\n",
    "    nn.Linear(in_features, 256),\n",
    "    nn.BatchNorm1d(256),\n",
    "    nn.ReLU(),\n",
    "    nn.Dropout(0.5),\n",
    "    nn.Linear(256, 2)\n",
    ")\n",
    "model4.classifier = classifier\n",
    "model4.to(device)"
   ]
  },
  {
   "cell_type": "markdown",
   "metadata": {},
   "source": [
    "To improve VGG16 model, I have added another linear layer along with dropouts before each linear layers. I have also tried adding batch normalization because it was not introduced when VGG16 was originally build."
   ]
  },
  {
   "cell_type": "markdown",
   "metadata": {},
   "source": [
    "Have used same technique as above to resolve the class imbalance issue."
   ]
  },
  {
   "cell_type": "code",
   "execution_count": null,
   "metadata": {
    "id": "9puIQXCfcy6w"
   },
   "outputs": [],
   "source": [
    "optimizer=Adam(model4.parameters(),lr=0.001)\n",
    "loss_function=nn.CrossEntropyLoss(weight=torch.FloatTensor([0.80,0.20]).cuda())"
   ]
  },
  {
   "cell_type": "code",
   "execution_count": null,
   "metadata": {
    "colab": {
     "base_uri": "https://localhost:8080/"
    },
    "id": "9XTyAHkPcy6w",
    "outputId": "41cf566f-17af-41f8-9636-a9658867bc57"
   },
   "outputs": [
    {
     "name": "stdout",
     "output_type": "stream",
     "text": [
      "Epoch: 0 Train Loss: tensor(0.2687) Train AUC: 0.894065557553155 Validation loss: tensor(0.1079) Validation AUC: 0.9607351712614871\n",
      "Epoch: 1 Train Loss: tensor(0.1952) Train AUC: 0.9237936149713899 Validation loss: tensor(0.0907) Validation AUC: 0.9690893901420218\n",
      "Epoch: 2 Train Loss: tensor(0.1838) Train AUC: 0.9279350750460722 Validation loss: tensor(0.1189) Validation AUC: 0.9605263157894737\n",
      "Epoch: 3 Train Loss: tensor(0.1793) Train AUC: 0.931097015286094 Validation loss: tensor(0.0864) Validation AUC: 0.9784878863826232\n",
      "Epoch: 4 Train Loss: tensor(0.1830) Train AUC: 0.9294186093986038 Validation loss: tensor(0.0892) Validation AUC: 0.9670008354218881\n",
      "Epoch: 5 Train Loss: tensor(0.1818) Train AUC: 0.930455264957241 Validation loss: tensor(0.1080) Validation AUC: 0.95843776106934\n",
      "Epoch: 6 Train Loss: tensor(0.1763) Train AUC: 0.9381302234605149 Validation loss: tensor(0.0790) Validation AUC: 0.9705513784461153\n",
      "Epoch: 7 Train Loss: tensor(0.1558) Train AUC: 0.9397384709025475 Validation loss: tensor(0.0825) Validation AUC: 0.9732664995822891\n",
      "Epoch: 8 Train Loss: tensor(0.1722) Train AUC: 0.9391486941378044 Validation loss: tensor(0.0655) Validation AUC: 0.9732664995822891\n",
      "Epoch: 9 Train Loss: tensor(0.1525) Train AUC: 0.9479304666451733 Validation loss: tensor(0.0737) Validation AUC: 0.9690893901420218\n"
     ]
    }
   ],
   "source": [
    "num_epochs = 10\n",
    "best_accuracy=0.0\n",
    "vggv2_train_accuracy=0.0\n",
    "vggv2_train_auc=0.0\n",
    "best_loss = 1.0\n",
    "vggv2_tloss = []\n",
    "vggv2_vloss = []\n",
    "\n",
    "for epoch in range(num_epochs):\n",
    "    \n",
    "    #Evaluation and training on training dataset\n",
    "    t_roc, train_loss, train_accuracy = Models.fit(model4, device, train_loader, train_count, optimizer, loss_function)\n",
    "    vggv2_tloss.append(train_loss)\n",
    "        \n",
    "    # Evaluation on validation dataset\n",
    "    v_roc, val_loss, test_accuracy = Models.evaluate(model4, device, valid_loader, val_count, loss_function)\n",
    "    vggv2_vloss.append(val_loss)\n",
    "    \n",
    "    print('Epoch: '+str(epoch)+' Train Loss: '+str(train_loss)+' Train AUC: '+str(t_roc)+' Validation loss: '+str(val_loss)+' Validation AUC: '+str(v_roc))\n",
    "    \n",
    "    #Save the best model\n",
    "    if val_loss<=best_loss:\n",
    "        torch.save(model4.state_dict(),'/content/drive/MyDrive/Colab Notebooks/vgg16_v2_checkpoint.model')\n",
    "        best_loss=val_loss\n",
    "        vggv2_train_auc = t_roc"
   ]
  },
  {
   "cell_type": "code",
   "execution_count": null,
   "metadata": {
    "colab": {
     "base_uri": "https://localhost:8080/"
    },
    "id": "3cO5o-mScy6x",
    "outputId": "a5a9feb7-233c-4d33-895e-0e6c24793b6b"
   },
   "outputs": [
    {
     "name": "stdout",
     "output_type": "stream",
     "text": [
      "0.9391486941378044\n"
     ]
    }
   ],
   "source": [
    "print(vggv2_train_auc)"
   ]
  },
  {
   "cell_type": "code",
   "execution_count": null,
   "metadata": {
    "colab": {
     "base_uri": "https://localhost:8080/",
     "height": 301
    },
    "id": "m1jmsB2zcy6x",
    "outputId": "520c2744-9e19-43f9-cec6-382ffbc9a04e"
   },
   "outputs": [
    {
     "data": {
      "image/png": "[encoded data removed]",
      "text/plain": [
       "<Figure size 432x288 with 1 Axes>"
      ]
     },
     "metadata": {
      "tags": []
     },
     "output_type": "display_data"
    }
   ],
   "source": [
    "plt.plot(vggv2_tloss)\n",
    "plt.plot(vggv2_vloss)\n",
    "plt.title('model loss')\n",
    "plt.ylabel('Loss')\n",
    "plt.xlabel('Epochs')\n",
    "plt.legend(['train', 'val'], loc='upper right')\n",
    "plt.show()"
   ]
  },
  {
   "cell_type": "markdown",
   "metadata": {},
   "source": [
    "From the above graph, we can say that VGG16 was succesfully improved because now our validation loss is less than training which indicates that our model is not overfitting anymore. The reason for the validation loss to be less than the training loss is that I have applied dropouts. When we apply dropouts, we randomly drop some neurons from the fully connected layers so as each time we are dropping neurons it reduces overfitting because the model does not favour particular neurons everytime. So this regularization only takes place during training but during validation or testing all the neurons are used so this is the only reason my validation loss is less than my training loss. The model is performing very good on the unseen testing data."
   ]
  },
  {
   "cell_type": "markdown",
   "metadata": {
    "id": "_U6bzmkOcy6x"
   },
   "source": [
    "### Training results"
   ]
  },
  {
   "cell_type": "markdown",
   "metadata": {
    "id": "YjP2Q2vHcy6x"
   },
   "source": [
    "#### Baseline approach results:"
   ]
  },
  {
   "cell_type": "code",
   "execution_count": null,
   "metadata": {
    "colab": {
     "base_uri": "https://localhost:8080/",
     "height": 398
    },
    "id": "KhDaYWHUcy6y",
    "outputId": "687c6bb5-3730-4921-f038-1b83d4d6d5fc"
   },
   "outputs": [
    {
     "data": {
      "image/png": "[encoded data removed]",
      "text/plain": [
       "<Figure size 360x360 with 1 Axes>"
      ]
     },
     "metadata": {
      "tags": []
     },
     "output_type": "display_data"
    },
    {
     "name": "stdout",
     "output_type": "stream",
     "text": [
      "MyModel basic:  0.9672424586710441\n",
      "VGG_16 basic:  0.9493541668719798\n"
     ]
    }
   ],
   "source": [
    "fig, ax = plt.subplots(figsize=(5,5))\n",
    "ax.bar('MyModel',v1_train_auc, width=0.3, label='MyModel basic')\n",
    "ax.bar('VGG16',vgg_train_auc, width=0.3,label='VGG_16 basic')\n",
    "\n",
    "# Add some text for labels, title and custom x-axis tick labels, etc.\n",
    "ax.set_ylabel('AUC')\n",
    "ax.set_title('Training AUC')\n",
    "ax.set_yticks([0,0.1,0.2,0.3,0.4,0.5,0.6,0.7,0.8,0.9,1])\n",
    "ax.legend(loc='center')\n",
    "fig.tight_layout()\n",
    "plt.show()\n",
    "print('MyModel basic: ',v1_train_auc)\n",
    "print('VGG_16 basic: ',vgg_train_auc)"
   ]
  },
  {
   "cell_type": "markdown",
   "metadata": {
    "id": "SAs_9ax8cy6y"
   },
   "source": [
    "#### Improved approach results"
   ]
  },
  {
   "cell_type": "code",
   "execution_count": null,
   "metadata": {
    "colab": {
     "base_uri": "https://localhost:8080/",
     "height": 398
    },
    "id": "6dGkNRJjcy6y",
    "outputId": "630f44d3-c8eb-439f-87ba-1cb2eac2e940"
   },
   "outputs": [
    {
     "data": {
      "image/png": "[encoded data removed]",
      "text/plain": [
       "<Figure size 360x360 with 1 Axes>"
      ]
     },
     "metadata": {
      "tags": []
     },
     "output_type": "display_data"
    },
    {
     "name": "stdout",
     "output_type": "stream",
     "text": [
      "MyModel improved:  0.9489359146009815\n",
      "VGG_16 improved:  0.9391486941378044\n"
     ]
    }
   ],
   "source": [
    "fig, ax = plt.subplots(figsize=(5,5))\n",
    "ax.bar('MyModel',v2_train_auc, width=0.3, label='MyModel improved')\n",
    "ax.bar('VGG16',vggv2_train_auc, width=0.3, label='VGG_16 improved')\n",
    "\n",
    "# Add some text for labels, title and custom x-axis tick labels, etc.\n",
    "ax.set_ylabel('AUC')\n",
    "ax.set_title('Training AUC')\n",
    "ax.set_yticks([0,0.1,0.2,0.3,0.4,0.5,0.6,0.7,0.8,0.9,1])\n",
    "ax.legend(loc='center')\n",
    "fig.tight_layout()\n",
    "plt.show()\n",
    "print('MyModel improved: ',v2_train_auc)\n",
    "print('VGG_16 improved: ',vggv2_train_auc)"
   ]
  },
  {
   "cell_type": "markdown",
   "metadata": {},
   "source": [
    "The above training ROC AUC scores for all the models will be used during the evaluation of these models on unseen test data to compare with the testing AUC scores and see how these models are actually performing on unseen data."
   ]
  },
  {
   "cell_type": "markdown",
   "metadata": {},
   "source": [
    "### References:\n",
    "1. https://www.kaggle.com/parthdhameliya77/pneumonia-classfication-tutorial-pytorch\n",
    "2. https://www.youtube.com/watch?v=9OHlgDjaE2I&list=PL1oOe7xElp02NM7vMylmLuxGmb4-8cIfQ&index=2&t=982s\n",
    "3. https://www.youtube.com/watch?v=p3CcfIjycBA&list=PL1oOe7xElp02NM7vMylmLuxGmb4-8cIfQ&index=6\n",
    "4. https://www.youtube.com/watch?v=4JFVhJyTZ44&list=PL1oOe7xElp02NM7vMylmLuxGmb4-8cIfQ&index=5"
   ]
  }
 ],
 "metadata": {
  "accelerator": "GPU",
  "colab": {
   "collapsed_sections": [],
   "name": "Main.ipynb",
   "provenance": []
  },
  "kernelspec": {
   "display_name": "Python 3",
   "language": "python",
   "name": "python3"
  },
  "language_info": {
   "codemirror_mode": {
    "name": "ipython",
    "version": 3
   },
   "file_extension": ".py",
   "mimetype": "text/x-python",
   "name": "python",
   "nbconvert_exporter": "python",
   "pygments_lexer": "ipython3",
   "version": "3.8.3"
  },
  "widgets": {
   "application/vnd.jupyter.widget-state+json": {
    "1bff892b6daa43deab7342b37ff02efc": {
     "model_module": "@jupyter-widgets/controls",
     "model_name": "ProgressStyleModel",
     "state": {
      "_model_module": "@jupyter-widgets/controls",
      "_model_module_version": "1.5.0",
      "_model_name": "ProgressStyleModel",
      "_view_count": null,
      "_view_module": "@jupyter-widgets/base",
      "_view_module_version": "1.2.0",
      "_view_name": "StyleView",
      "bar_color": null,
      "description_width": "initial"
     }
    },
    "49a2d58da901440188b9180660e1f498": {
     "model_module": "@jupyter-widgets/controls",
     "model_name": "FloatProgressModel",
     "state": {
      "_dom_classes": [],
      "_model_module": "@jupyter-widgets/controls",
      "_model_module_version": "1.5.0",
      "_model_name": "FloatProgressModel",
      "_view_count": null,
      "_view_module": "@jupyter-widgets/controls",
      "_view_module_version": "1.5.0",
      "_view_name": "ProgressView",
      "bar_style": "success",
      "description": "100%",
      "description_tooltip": null,
      "layout": "IPY_MODEL_ed76af43b7ac48cdb58ba3f5915831e4",
      "max": 553433881,
      "min": 0,
      "orientation": "horizontal",
      "style": "IPY_MODEL_1bff892b6daa43deab7342b37ff02efc",
      "value": 553433881
     }
    },
    "6760e2518ccf4e0cb7df391b77e584ac": {
     "model_module": "@jupyter-widgets/base",
     "model_name": "LayoutModel",
     "state": {
      "_model_module": "@jupyter-widgets/base",
      "_model_module_version": "1.2.0",
      "_model_name": "LayoutModel",
      "_view_count": null,
      "_view_module": "@jupyter-widgets/base",
      "_view_module_version": "1.2.0",
      "_view_name": "LayoutView",
      "align_content": null,
      "align_items": null,
      "align_self": null,
      "border": null,
      "bottom": null,
      "display": null,
      "flex": null,
      "flex_flow": null,
      "grid_area": null,
      "grid_auto_columns": null,
      "grid_auto_flow": null,
      "grid_auto_rows": null,
      "grid_column": null,
      "grid_gap": null,
      "grid_row": null,
      "grid_template_areas": null,
      "grid_template_columns": null,
      "grid_template_rows": null,
      "height": null,
      "justify_content": null,
      "justify_items": null,
      "left": null,
      "margin": null,
      "max_height": null,
      "max_width": null,
      "min_height": null,
      "min_width": null,
      "object_fit": null,
      "object_position": null,
      "order": null,
      "overflow": null,
      "overflow_x": null,
      "overflow_y": null,
      "padding": null,
      "right": null,
      "top": null,
      "visibility": null,
      "width": null
     }
    },
    "b8086ac6712f4c1c87e095b89e08fc70": {
     "model_module": "@jupyter-widgets/controls",
     "model_name": "HTMLModel",
     "state": {
      "_dom_classes": [],
      "_model_module": "@jupyter-widgets/controls",
      "_model_module_version": "1.5.0",
      "_model_name": "HTMLModel",
      "_view_count": null,
      "_view_module": "@jupyter-widgets/controls",
      "_view_module_version": "1.5.0",
      "_view_name": "HTMLView",
      "description": "",
      "description_tooltip": null,
      "layout": "IPY_MODEL_6760e2518ccf4e0cb7df391b77e584ac",
      "placeholder": "​",
      "style": "IPY_MODEL_f0ce70d878f3473383fc401bad765c81",
      "value": " 528M/528M [51:21&lt;00:00, 180kB/s]"
     }
    },
    "c2fcb3af5b8b4ab4bea232dd2fbde077": {
     "model_module": "@jupyter-widgets/controls",
     "model_name": "HBoxModel",
     "state": {
      "_dom_classes": [],
      "_model_module": "@jupyter-widgets/controls",
      "_model_module_version": "1.5.0",
      "_model_name": "HBoxModel",
      "_view_count": null,
      "_view_module": "@jupyter-widgets/controls",
      "_view_module_version": "1.5.0",
      "_view_name": "HBoxView",
      "box_style": "",
      "children": [
       "IPY_MODEL_49a2d58da901440188b9180660e1f498",
       "IPY_MODEL_b8086ac6712f4c1c87e095b89e08fc70"
      ],
      "layout": "IPY_MODEL_c8001913030a4c65bf556f36c5cd2b6a"
     }
    },
    "c8001913030a4c65bf556f36c5cd2b6a": {
     "model_module": "@jupyter-widgets/base",
     "model_name": "LayoutModel",
     "state": {
      "_model_module": "@jupyter-widgets/base",
      "_model_module_version": "1.2.0",
      "_model_name": "LayoutModel",
      "_view_count": null,
      "_view_module": "@jupyter-widgets/base",
      "_view_module_version": "1.2.0",
      "_view_name": "LayoutView",
      "align_content": null,
      "align_items": null,
      "align_self": null,
      "border": null,
      "bottom": null,
      "display": null,
      "flex": null,
      "flex_flow": null,
      "grid_area": null,
      "grid_auto_columns": null,
      "grid_auto_flow": null,
      "grid_auto_rows": null,
      "grid_column": null,
      "grid_gap": null,
      "grid_row": null,
      "grid_template_areas": null,
      "grid_template_columns": null,
      "grid_template_rows": null,
      "height": null,
      "justify_content": null,
      "justify_items": null,
      "left": null,
      "margin": null,
      "max_height": null,
      "max_width": null,
      "min_height": null,
      "min_width": null,
      "object_fit": null,
      "object_position": null,
      "order": null,
      "overflow": null,
      "overflow_x": null,
      "overflow_y": null,
      "padding": null,
      "right": null,
      "top": null,
      "visibility": null,
      "width": null
     }
    },
    "ed76af43b7ac48cdb58ba3f5915831e4": {
     "model_module": "@jupyter-widgets/base",
     "model_name": "LayoutModel",
     "state": {
      "_model_module": "@jupyter-widgets/base",
      "_model_module_version": "1.2.0",
      "_model_name": "LayoutModel",
      "_view_count": null,
      "_view_module": "@jupyter-widgets/base",
      "_view_module_version": "1.2.0",
      "_view_name": "LayoutView",
      "align_content": null,
      "align_items": null,
      "align_self": null,
      "border": null,
      "bottom": null,
      "display": null,
      "flex": null,
      "flex_flow": null,
      "grid_area": null,
      "grid_auto_columns": null,
      "grid_auto_flow": null,
      "grid_auto_rows": null,
      "grid_column": null,
      "grid_gap": null,
      "grid_row": null,
      "grid_template_areas": null,
      "grid_template_columns": null,
      "grid_template_rows": null,
      "height": null,
      "justify_content": null,
      "justify_items": null,
      "left": null,
      "margin": null,
      "max_height": null,
      "max_width": null,
      "min_height": null,
      "min_width": null,
      "object_fit": null,
      "object_position": null,
      "order": null,
      "overflow": null,
      "overflow_x": null,
      "overflow_y": null,
      "padding": null,
      "right": null,
      "top": null,
      "visibility": null,
      "width": null
     }
    },
    "f0ce70d878f3473383fc401bad765c81": {
     "model_module": "@jupyter-widgets/controls",
     "model_name": "DescriptionStyleModel",
     "state": {
      "_model_module": "@jupyter-widgets/controls",
      "_model_module_version": "1.5.0",
      "_model_name": "DescriptionStyleModel",
      "_view_count": null,
      "_view_module": "@jupyter-widgets/base",
      "_view_module_version": "1.2.0",
      "_view_name": "StyleView",
      "description_width": ""
     }
    }
   }
  }
 },
 "nbformat": 4,
 "nbformat_minor": 1
}
